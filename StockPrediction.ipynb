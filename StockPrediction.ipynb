{
  "nbformat": 4,
  "nbformat_minor": 0,
  "metadata": {
    "colab": {
      "name": "StockPrediction.ipynb",
      "provenance": [],
      "collapsed_sections": [],
      "authorship_tag": "ABX9TyMTC3/p9QOqO8lpABSGe1YG",
      "include_colab_link": true
    },
    "kernelspec": {
      "name": "python3",
      "display_name": "Python 3"
    },
    "language_info": {
      "name": "python"
    }
  },
  "cells": [
    {
      "cell_type": "markdown",
      "metadata": {
        "id": "view-in-github",
        "colab_type": "text"
      },
      "source": [
        "<a href=\"https://colab.research.google.com/github/Vaishnavi-Dixit-12/Stock-Prediction-using-LSTM-RNN-and-Tensorflow-2-/blob/main/StockPrediction.ipynb\" target=\"_parent\"><img src=\"https://colab.research.google.com/assets/colab-badge.svg\" alt=\"Open In Colab\"/></a>"
      ]
    },
    {
      "cell_type": "markdown",
      "metadata": {
        "id": "4UzDsoE_Ug8G"
      },
      "source": [
        "This is a Stock Prediction System using LSTM and Tensorflow 2\n",
        "(reference from: https://www.thepythoncode.com/article/stock-price-prediction-in-python-using-tensorflow-2-and-keras)"
      ]
    },
    {
      "cell_type": "code",
      "metadata": {
        "id": "OeRVxf8kIZor"
      },
      "source": [
        "#!pip3 install tensorflow pandas numpy matplotlib yahoo_fin sklearn"
      ],
      "execution_count": null,
      "outputs": []
    },
    {
      "cell_type": "markdown",
      "metadata": {
        "id": "PFGrEelyKB6z"
      },
      "source": [
        "Uncomment and run the above line of code if the following modules are not installed"
      ]
    },
    {
      "cell_type": "code",
      "metadata": {
        "id": "h_7TAAZxIoIJ"
      },
      "source": [
        "import tensorflow as tf\n",
        "import os\n",
        "import numpy as np\n",
        "import pandas as pd\n",
        "import random\n",
        "import matplotlib.pyplot as plt\n",
        "import time\n",
        "\n",
        "from tensorflow.keras.models import Sequential\n",
        "from tensorflow.keras.layers import LSTM, Dense, Dropout, Bidirectional\n",
        "from tensorflow.keras.callbacks import ModelCheckpoint, TensorBoard\n",
        "from sklearn import preprocessing\n",
        "from sklearn.model_selection import train_test_split\n",
        "from yahoo_fin import stock_info as si\n",
        "from collections import deque\n",
        "from google.colab import drive"
      ],
      "execution_count": 34,
      "outputs": []
    },
    {
      "cell_type": "markdown",
      "metadata": {
        "id": "QZwT2gCNJ1k2"
      },
      "source": [
        "* tensorflow - TensorFlow is an end-to-end open source platform for machine learning\n",
        "* os - the OS module in Python provides functions for interacting with the operating system.\n",
        "* numpy - library that provides a simple yet powerful data structure: the n-dimensional array.\n",
        "* pandas - it is a fast, powerful, flexible and easy to use open source data analysis and manipulation tool,\n",
        "built on top of the Python programming language.\n",
        "* random - this module implements pseudo-random number generators for various distributions.\n",
        "* matplotlib.pyplot - matplotlib.pyplot is a state-based interface to matplotlib. It provides a MATLAB-like way of plotting.\n",
        "* time - This module provides various time-related functions.\n",
        "\n",
        "-> yahoo_fin:http://theautomatic.net/yahoo_fin-documentation/\n"
      ]
    },
    {
      "cell_type": "code",
      "metadata": {
        "id": "p2EaTfoHJ6zF"
      },
      "source": [
        "np.random.seed(314)\n",
        "tf.random.set_seed(314)\n",
        "random.seed(314)"
      ],
      "execution_count": 35,
      "outputs": []
    },
    {
      "cell_type": "markdown",
      "metadata": {
        "id": "MElJE6FzKt7-"
      },
      "source": [
        "**The set.seed()**: *function sets the starting number used to generate a sequence of random numbers – it ensures that you get the same result if you start with that same seed each time you run the same process.*"
      ]
    },
    {
      "cell_type": "code",
      "metadata": {
        "id": "kWSg7DVlLZxo"
      },
      "source": [
        "#Dataset\n",
        "\n",
        "#shuffle them in unison with respect to their leading indices.\n",
        "def shuffle_in_unison(a,b):\n",
        "  state= np.random.get-state()\n",
        "  np.random.shuffle(a)\n",
        "  np.random.set_state(state)\n",
        "  np.random.shuffle(b)"
      ],
      "execution_count": 36,
      "outputs": []
    },
    {
      "cell_type": "markdown",
      "metadata": {
        "id": "o0eF-iLoei0h"
      },
      "source": [
        "In the below function we will mainly look at:\n",
        "* -> Check whether the dataframe is already loaded or not\n",
        "* -> Check feature_columns are present in dataframe\n",
        "* -> Split the data into train and test."
      ]
    },
    {
      "cell_type": "markdown",
      "metadata": {
        "id": "gTKyfqw_fwNY"
      },
      "source": [
        "Loads data from Yahoo Finance source, as well as scaling, shuffling, normalizing and splitting.\n",
        "    Params:\n",
        "* ticker (str/pd.DataFrame): the ticker you want to load, examples include AAPL, TESL, etc.\n",
        "* n_steps (int): the historical sequence length (i.e window size) used to predict, default is 50\n",
        "* scale (bool): whether to scale prices from 0 to 1, default is True\n",
        "* shuffle (bool): whether to shuffle the dataset (both training & testing), default is True\n",
        "* lookup_step (int): the future lookup step to predict, default is 1 \n",
        "* split_by_date (bool): whether we split the dataset into training/testing by date, setting it \n",
        "  to False will split datasets in a random way\n",
        "* test_size (float): ratio for test data, default is 0.2 (20% testing data)\n",
        "* feature_columns (list): the list of features to use to feed into the model, default is everything grabbed from yahoo_fin\n"
      ]
    },
    {
      "cell_type": "code",
      "metadata": {
        "id": "CVLD4U-VnrCD"
      },
      "source": [
        "def load_data(ticker, n_steps=50, scale=True, shuffle=True, lookup_step=1, split_by_date=True, test_size=0.2, feature_columns=['adjclose', 'volume', 'open', 'high', 'low']):\n",
        "  if isinstance(ticker, str):\n",
        "    df = si.get_data(ticker) #loads the dataframe into df\n",
        "    print('\\nloading data')\n",
        "  elif isinstance(ticker, pd.DataFrame):\n",
        "    df = ticker\n",
        "    print('data already loaded')\n",
        "  else:\n",
        "    raise TypeError(\"Incorrect Ticker\")\n",
        "  #checks if the ticker(i.e. the dataframe) we want to load is already present or not\n",
        "  \n",
        "  print('\\nData loading complete\\n\\n')\n",
        "  print(\"sample data:\\n\",df.head(),'\\n')\n",
        "  print('data shape->', df.shape)\n",
        "  result ={}\n",
        "  result['df'] = df.copy()\n",
        "  #return the original dataframe\n",
        "\n",
        "  #feature_column:\n",
        "  for column in feature_columns:\n",
        "    assert column in df.columns, print(f\"'{column}' does not exist in the dataframe.\") \n",
        "  if 'date' not in df.columns:\n",
        "    df['date'] = df.index\n",
        "  if scale:\n",
        "    column_scaler ={} \n",
        "    #scale data from 0 to 1\n",
        "\n",
        "    for column in feature_columns:\n",
        "      scaler = preprocessing.MinMaxScaler() \n",
        "      #This estimator scales and translates each feature individually such that it is in the given range on the training set, e.g. between zero and one.\n",
        "      df[column] = scaler.fit_transform(np.expand_dims(df[column].values, axis=1))\n",
        "      column_scaler[column] = scaler\n",
        "    result[\"column_scaler\"] = column_scaler\n",
        "  \n",
        "  #checks whether the passed feature_columns exist in dataframe (line 15), add date as column(line 17)\n",
        "  \n",
        "  df['future'] =df['adjclose'].shift(-lookup_step) \n",
        "  #(look_up = 1) DataFrame.shift(periods=1, freq=None, axis=0, fill_value=<object object>) - Shift index by desired number of periods with an optional time freq.\n",
        "\n",
        "  last_sequence = np.array(df[feature_columns].tail(lookup_step))\n",
        "  df.dropna(inplace=True) #drop NaNs (Not A Number)\n",
        "\n",
        "  sequence_data = []\n",
        "  sequences = deque(maxlen=n_steps)\n",
        "  for entry, target in zip(df[feature_columns + [\"date\"]].values, df['future'].values):\n",
        "    sequences.append(entry)\n",
        "    if len(sequences) == n_steps:\n",
        "        sequence_data.append([np.array(sequences), target])\n",
        "    # Once a bounded length deque is full, when new items are added, a corresponding number of items are discarded from the opposite end. \n",
        "    # if n_steps=x and lookup_step=y, last_sequence should be of x+y length\n",
        "  \n",
        "  last_sequence = list([s[:len(feature_columns)] for s in sequences]) + list(last_sequence)\n",
        "  last_sequence = np.array(last_sequence).astype(np.float32)\n",
        "  result['last_sequence']= last_sequence #add to result\n",
        "  # last_sequence will predict future prices that are not mentioned in the dataframe\n",
        "\n",
        "  #X and y\n",
        "  X,y =[],[]\n",
        "  for sequence, target in sequence_data:\n",
        "    X.append(sequence)\n",
        "    y.append(target)\n",
        "  # convert to np \n",
        "  X= np.array(X)\n",
        "  y= np.array(y)\n",
        "\n",
        "  #splitting the data\n",
        "  if split_by_date:\n",
        "      train_samples = int((1 - test_size) * len(X))\n",
        "      result[\"X_train\"] = X[:train_samples]\n",
        "      result[\"y_train\"] = y[:train_samples]\n",
        "      result[\"X_test\"]  = X[train_samples:]\n",
        "      result[\"y_test\"]  = y[train_samples:]\n",
        "      # split the dataset into training & testing sets by date (not randomly splitting)\n",
        "      \n",
        "      if shuffle:\n",
        "          # shuffle the datasets for training (NOTE: if shuffle parameter is set)\n",
        "          shuffle_in_unison(result[\"X_train\"], result[\"y_train\"])\n",
        "          shuffle_in_unison(result[\"X_test\"], result[\"y_test\"])\n",
        "  else:    \n",
        "      # split the dataset randomly\n",
        "      result[\"X_train\"], result[\"X_test\"], result[\"y_train\"], result[\"y_test\"] = train_test_split(X, y, test_size=test_size, shuffle=shuffle)\n",
        "    \n",
        "    \n",
        "  dates = result[\"X_test\"][:, -1, -1]\n",
        "  result[\"test_df\"] = result[\"df\"].loc[dates]\n",
        "  result[\"test_df\"] = result[\"test_df\"][~result[\"test_df\"].index.duplicated(keep='first')]\n",
        "  result[\"X_train\"] = result[\"X_train\"][:, :, :len(feature_columns)].astype(np.float32)\n",
        "  result[\"X_test\"] = result[\"X_test\"][:, :, :len(feature_columns)].astype(np.float32)\n",
        "  \n",
        "  return result    \n",
        "                                                \n"
      ],
      "execution_count": 37,
      "outputs": []
    },
    {
      "cell_type": "markdown",
      "metadata": {
        "id": "pzJysDNWCJlr"
      },
      "source": [
        "* **Create Model:**\n",
        "the below function is flexible, we can change the values of the parameters in the function.\n",
        "The function will create a RNN that has a dense layer as output layer with 1 neuro. \n",
        "\n",
        "* **Bidirectional Layer:** Bidirectional RNNs\n",
        "For sequences other than time series (e.g. text), it is often the case that a RNN model can perform better if it not only processes sequence from start to end, but also backwards. For example, to predict the next word in a sentence, it is often useful to have the context around the word, not only just the words that come before it.\n",
        "Keras provides an easy API for you to build such bidirectional RNNs: the keras.layers.Bidirectional wrapper.\n",
        "\n",
        "\n"
      ]
    },
    {
      "cell_type": "code",
      "metadata": {
        "id": "dfcQxeRzN05e"
      },
      "source": [
        "#Creating model\n",
        "def create_model(sequence_length, n_features, units=256, cell=LSTM, n_layers=2, dropout=0.3,\n",
        "                loss=\"mean_absolute_error\", optimizer=\"rmsprop\", bidirectional=False):\n",
        "    \n",
        "    model = Sequential()\n",
        "    #A Sequential model is appropriate for a plain stack of layers where each layer has exactly one input tensor and one output tensor.\n",
        "  \n",
        "    #layers\n",
        "    for i in range(n_layers):\n",
        "        if i == 0:\n",
        "            if bidirectional:\n",
        "                model.add(Bidirectional(cell(units, return_sequences=True), batch_input_shape=(None, sequence_length, n_features)))\n",
        "            else:\n",
        "                model.add(cell(units, return_sequences=True, batch_input_shape=(None, sequence_length, n_features)))\n",
        "        elif i == n_layers - 1:\n",
        "            if bidirectional:\n",
        "                model.add(Bidirectional(cell(units, return_sequences=False)))\n",
        "            else:\n",
        "                model.add(cell(units, return_sequences=False))\n",
        "        else:\n",
        "            if bidirectional:\n",
        "                model.add(Bidirectional(cell(units, return_sequences=True)))\n",
        "            else:\n",
        "                model.add(cell(units, return_sequences=True))\n",
        "        # if condition: first layer; elif condition: last layer; else condition: hidden layers\n",
        "        \n",
        "        # add dropout after each layer\n",
        "        model.add(Dropout(dropout))\n",
        "        \n",
        "    model.add(Dense(1, activation=\"linear\"))\n",
        "    model.compile(loss=loss, metrics=[\"mean_absolute_error\"], optimizer=optimizer)\n",
        "    return model"
      ],
      "execution_count": 38,
      "outputs": []
    },
    {
      "cell_type": "code",
      "metadata": {
        "id": "x2FjmM3hN1-w"
      },
      "source": [
        "#load_data parameters\n",
        "N_STEPS = 50 # Window size or the sequence length\n",
        "LOOKUP_STEP = 15 # Lookup step, 1 is the next day \n",
        "#(value of stock after '15'(value of lookup step) will be predicted)\n",
        "SCALE = True # whether to scale feature columns & output price as well\n",
        "SHUFFLE = True # whether to shuffle the dataset\n",
        "SPLIT_BY_DATE = False # whether to split the training/testing set by date\n",
        "split_by_date_str = f\"sbd-{int(SPLIT_BY_DATE)}\"\n",
        "\n",
        "TEST_SIZE = 0.2 # test ratio size, 0.2 is 20%\n",
        "FEATURE_COLUMNS = [\"adjclose\", \"volume\", \"open\", \"high\", \"low\"] # features to use\n",
        "\n",
        "date_now = time.strftime(\"%Y-%m-%d\") # date now\n",
        "\n",
        "\n",
        "#create_model parameters\n",
        "N_LAYERS = 2 \n",
        "CELL = LSTM # LSTM cell\n",
        "UNITS = 256 # 256 LSTM neurons\n",
        "DROPOUT = 0.4 \n",
        "BIDIRECTIONAL = False # whether to use bidirectional RNNs\n",
        "\n",
        "\n",
        "# training parameters\n",
        "LOSS = \"huber_loss\"\n",
        "OPTIMIZER = \"adam\"\n",
        "BATCH_SIZE = 64 #try changing the value and observe changes in predicted value\n",
        "EPOCHS = 1 #Try ranging this value from 10-500 and analysis its effect on the accuracy for predicted value\n",
        "\n",
        "# select the ticker\n",
        "ticker = \"MSFT\" #try with values like NFLX, INFY etc.\n",
        "ticker_data_filename = os.path.join(\"data\", f\"{ticker}_{date_now}.csv\")\n",
        "\n",
        "# model name\n",
        "shuffle_str = f\"sh-{int(SHUFFLE)}\"\n",
        "scale_str = f\"sc-{int(SCALE)}\"\n",
        "model_name = f\"{date_now}_{ticker}-{shuffle_str}-{scale_str}-{split_by_date_str}-\\\n",
        "{LOSS}-{OPTIMIZER}-{CELL.__name__}-seq-{N_STEPS}-step-{LOOKUP_STEP}-layers-{N_LAYERS}-units-{UNITS}\"\n",
        "if BIDIRECTIONAL:\n",
        "    model_name += \"-b\""
      ],
      "execution_count": 39,
      "outputs": []
    },
    {
      "cell_type": "code",
      "metadata": {
        "id": "KsGT9GkSN8T9"
      },
      "source": [
        "if not os.path.isdir(\"results\"):\n",
        "    os.mkdir(\"results\")\n",
        "if not os.path.isdir(\"data\"):\n",
        "    os.mkdir(\"data\")"
      ],
      "execution_count": 40,
      "outputs": []
    },
    {
      "cell_type": "code",
      "metadata": {
        "colab": {
          "base_uri": "https://localhost:8080/"
        },
        "id": "dfmYUfbM_x-t",
        "outputId": "f93ee703-4c54-4e11-e93c-144867bc191f"
      },
      "source": [
        "data = load_data(ticker, N_STEPS, scale=SCALE, split_by_date=SPLIT_BY_DATE, \n",
        "                shuffle=SHUFFLE, lookup_step=LOOKUP_STEP, test_size=TEST_SIZE, \n",
        "                feature_columns=FEATURE_COLUMNS)\n",
        "#loads the data"
      ],
      "execution_count": 41,
      "outputs": [
        {
          "output_type": "stream",
          "text": [
            "\n",
            "loading data\n",
            "\n",
            "Data loading complete\n",
            "\n",
            "\n",
            "sample data:\n",
            "                 open      high       low     close  adjclose      volume ticker\n",
            "1986-03-13  0.088542  0.101563  0.088542  0.097222  0.061608  1031788800   MSFT\n",
            "1986-03-14  0.097222  0.102431  0.097222  0.100694  0.063809   308160000   MSFT\n",
            "1986-03-17  0.100694  0.103299  0.100694  0.102431  0.064909   133171200   MSFT\n",
            "1986-03-18  0.102431  0.103299  0.098958  0.099826  0.063258    67766400   MSFT\n",
            "1986-03-19  0.099826  0.100694  0.097222  0.098090  0.062158    47894400   MSFT \n",
            "\n",
            "data shape-> (8877, 7)\n"
          ],
          "name": "stdout"
        }
      ]
    },
    {
      "cell_type": "code",
      "metadata": {
        "id": "xmbLfO1a_1-W"
      },
      "source": [
        "data[\"df\"].to_csv(ticker_data_filename)\n",
        "model = create_model(N_STEPS, len(FEATURE_COLUMNS), loss=LOSS, units=UNITS, cell=CELL, n_layers=N_LAYERS,\n",
        "                    dropout=DROPOUT, optimizer=OPTIMIZER, bidirectional=BIDIRECTIONAL)\n",
        "#save dataframe and construct model"
      ],
      "execution_count": 42,
      "outputs": []
    },
    {
      "cell_type": "markdown",
      "metadata": {
        "id": "CyvioQnkK-RL"
      },
      "source": [
        "* **ModelCheckpoin**t callback is used in conjunction with training using model.fit() to save a model or weights (in a checkpoint file) at some interval, so the model or weights can be loaded later to continue the training from the state saved.\n",
        "* **TensorBoard** provides the visualization and tooling needed for machine learning experimentation"
      ]
    },
    {
      "cell_type": "code",
      "metadata": {
        "id": "Th99xRivOBjP",
        "colab": {
          "base_uri": "https://localhost:8080/"
        },
        "outputId": "078b8f1a-e72d-4df4-f3fb-1b11f028135a"
      },
      "source": [
        "checkpoint = ModelCheckpoint(os.path.join(\"results\", model_name + \".h5\"), save_weights_only=True, save_best_only=True, verbose=1)\n",
        "tensorboard = TensorBoard(log_dir=os.path.join(\"logs\", model_name))\n",
        "\n",
        "history = model.fit(data[\"X_train\"], data[\"y_train\"],\n",
        "                    batch_size=BATCH_SIZE,\n",
        "                    epochs=EPOCHS,\n",
        "                    validation_data=(data[\"X_test\"], data[\"y_test\"]),\n",
        "                    callbacks=[checkpoint, tensorboard],\n",
        "                    verbose=1)"
      ],
      "execution_count": 43,
      "outputs": [
        {
          "output_type": "stream",
          "text": [
            "111/111 [==============================] - 66s 568ms/step - loss: 0.0010 - mean_absolute_error: 0.0231 - val_loss: 1.3595e-04 - val_mean_absolute_error: 0.0110\n",
            "\n",
            "Epoch 00001: val_loss improved from inf to 0.00014, saving model to results/2021-06-02_MSFT-sh-1-sc-1-sbd-0-huber_loss-adam-LSTM-seq-50-step-15-layers-2-units-256.h5\n"
          ],
          "name": "stdout"
        }
      ]
    },
    {
      "cell_type": "code",
      "metadata": {
        "id": "jl3dJDvUOeUW"
      },
      "source": [
        "#plot graph\n",
        "def plot_graph(test_df):\n",
        "    plt.plot(test_df[f'true_adjclose_{LOOKUP_STEP}'], c='b')\n",
        "    plt.plot(test_df[f'adjclose_{LOOKUP_STEP}'], c='r')\n",
        "    plt.xlabel(\"Days\")\n",
        "    plt.ylabel(\"Price\")\n",
        "    plt.legend([\"Actual Price\", \"Predicted Price\"])\n",
        "    plt.show()\n",
        "\n"
      ],
      "execution_count": 44,
      "outputs": []
    },
    {
      "cell_type": "markdown",
      "metadata": {
        "id": "8dFeBTQYMzPx"
      },
      "source": [
        "In the below get_final_df function\n",
        "* This function takes the `model` and `data` dict to construct a final dataframe that includes the features along with true and predicted prices of the testing dataset\n",
        "* \n",
        "    "
      ]
    },
    {
      "cell_type": "code",
      "metadata": {
        "id": "G-dPHYaqOg7Q"
      },
      "source": [
        "def get_final_df(model, data):\n",
        "    buy_profit  = lambda current, pred_future, true_future: true_future - current if pred_future > current else 0\n",
        "    sell_profit = lambda current, pred_future, true_future: current - true_future if pred_future < current else 0\n",
        "\n",
        "    X_test = data[\"X_test\"]\n",
        "    y_test = data[\"y_test\"]\n",
        "    \n",
        "    y_pred = model.predict(X_test) #predict data\n",
        "    if SCALE:\n",
        "        y_test = np.squeeze(data[\"column_scaler\"][\"adjclose\"].inverse_transform(np.expand_dims(y_test, axis=0)))\n",
        "        y_pred = np.squeeze(data[\"column_scaler\"][\"adjclose\"].inverse_transform(y_pred))\n",
        "    test_df = data[\"test_df\"]\n",
        "    test_df[f\"adjclose_{LOOKUP_STEP}\"] = y_pred # add predicted future prices to the dataframe\n",
        "   \n",
        "    test_df[f\"true_adjclose_{LOOKUP_STEP}\"] = y_test  # add true future prices to the dataframe\n",
        "    \n",
        "    test_df.sort_index(inplace=True) # sort the dataframe by date\n",
        "    final_df = test_df\n",
        "    \n",
        "    final_df[\"buy_profit\"] = list(map(buy_profit, \n",
        "                                    final_df[\"adjclose\"], \n",
        "                                    final_df[f\"adjclose_{LOOKUP_STEP}\"], \n",
        "                                    final_df[f\"true_adjclose_{LOOKUP_STEP}\"])\n",
        "                                    # since we don't have profit for last sequence, add 0's\n",
        "                                    ) # add the buy profit column\n",
        "    \n",
        "    \n",
        "    final_df[\"sell_profit\"] = list(map(sell_profit, \n",
        "                                    final_df[\"adjclose\"], \n",
        "                                    final_df[f\"adjclose_{LOOKUP_STEP}\"], \n",
        "                                    final_df[f\"true_adjclose_{LOOKUP_STEP}\"])\n",
        "                                    # since we don't have profit for last sequence, add 0's\n",
        "                                    ) # add the sell profit column\n",
        "\n",
        "    return final_df"
      ],
      "execution_count": 45,
      "outputs": []
    },
    {
      "cell_type": "code",
      "metadata": {
        "id": "_HV4sVdBOi8S"
      },
      "source": [
        "def predict(model, data):\n",
        "    last_sequence = data[\"last_sequence\"][-N_STEPS:]\n",
        "    print(last_sequence)\n",
        "    last_sequence = np.expand_dims(last_sequence, axis=0)\n",
        "   \n",
        "    prediction = model.predict(last_sequence)  # get the prediction (scaled from 0 to 1)\n",
        "    if SCALE:\n",
        "        predicted_price = data[\"column_scaler\"][\"adjclose\"].inverse_transform(prediction)[0][0]\n",
        "    else:\n",
        "        predicted_price = prediction[0][0]\n",
        "\n",
        "    # inverting and scaling to get the price\n",
        "    return predicted_price"
      ],
      "execution_count": 46,
      "outputs": []
    },
    {
      "cell_type": "markdown",
      "metadata": {
        "id": "WFq_oT1lOtes"
      },
      "source": [
        "For the below block of code\n",
        "* **model.evaluate()**: Returns the loss value & metrics values for the model in test mode.\n",
        "* mean absolute error: In statistics, mean absolute error (MAE) is a measure of errors between paired observations expressing the same phenomenon. here mean absolute error is also known as inverse scaling"
      ]
    },
    {
      "cell_type": "code",
      "metadata": {
        "id": "eq4JbUvPOmkz"
      },
      "source": [
        "loss, mae = model.evaluate(data[\"X_test\"], data[\"y_test\"], verbose=0)\n",
        "\n",
        "if SCALE:\n",
        "    mean_absolute_error = data[\"column_scaler\"][\"adjclose\"].inverse_transform([[mae]])[0][0]\n",
        "else:\n",
        "    mean_absolute_error = mae"
      ],
      "execution_count": 47,
      "outputs": []
    },
    {
      "cell_type": "code",
      "metadata": {
        "id": "2M2QXGuMOqc8",
        "colab": {
          "base_uri": "https://localhost:8080/"
        },
        "outputId": "b505e7fc-582c-4d72-91ce-e72529530503"
      },
      "source": [
        "final_df = get_final_df(model, data)\n",
        "future_price = predict(model, data)\n",
        "\n",
        "#Here we get the final data frame and our predicyed values for the given dataframe"
      ],
      "execution_count": 48,
      "outputs": [
        {
          "output_type": "stream",
          "text": [
            "[[0.9008066  0.02702614 0.8799946  0.9000752  0.88453615]\n",
            " [0.90687734 0.02849425 0.90759695 0.91584885 0.9111816 ]\n",
            " [0.898783   0.02264832 0.9089733  0.9042562  0.904453  ]\n",
            " [0.8868706  0.03084834 0.89922446 0.9002273  0.89003444]\n",
            " [0.9026774  0.02251213 0.88488805 0.8993531  0.88995755]\n",
            " [0.8979431  0.02226696 0.9041562  0.89969516 0.89122635]\n",
            " [0.8849998  0.02184394 0.89245766 0.88848263 0.8882273 ]\n",
            " [0.8999666  0.0401361  0.8900874  0.9084372  0.8931873 ]\n",
            " [0.92508954 0.0272311  0.9113435  0.92265236 0.9149497 ]\n",
            " [0.95074695 0.03361546 0.9277444  0.94971454 0.93282866]\n",
            " [0.94612706 0.02003711 0.9462862  0.94758606 0.9489006 ]\n",
            " [0.9539159  0.01983108 0.94705075 0.9534013  0.9500925 ]\n",
            " [0.9667064  0.02071055 0.96601313 0.96560216 0.96858674]\n",
            " [0.9766334  0.02139206 0.9663954  0.9726338  0.9702785 ]\n",
            " [0.97686255 0.02413314 0.97342986 0.9790193  0.97866046]\n",
            " [0.9867131  0.02091677 0.9831786  0.9847965  0.98715776]\n",
            " [0.9756407  0.02017213 0.9840197  0.9834282  0.9807368 ]\n",
            " [0.9905693  0.02265551 0.98574    0.98760915 0.9906183 ]\n",
            " [0.99530375 0.02192806 0.9916275  0.9916761  0.99011844]\n",
            " [0.9876676  0.02030656 0.9943801  0.99350053 0.99096435]\n",
            " [0.985835   0.01692002 0.9853195  0.9886354  0.98719627]\n",
            " [0.99469286 0.02110415 0.9896013  0.9904598  0.9887727 ]\n",
            " [0.9816733  0.02263482 0.9944565  0.99464077 0.98258233]\n",
            " [0.99686915 0.01860989 0.9855489  0.99361455 0.9888496 ]\n",
            " [0.9983964  0.01695926 1.         0.99714935 1.        ]\n",
            " [1.         0.02788793 0.9996941  1.         0.99980766]\n",
            " [0.97170806 0.04332177 0.9786673  0.9747243  0.9722394 ]\n",
            " [0.9638811  0.0371885  0.97629714 0.9730519  0.9570519 ]\n",
            " [0.9626211  0.02780536 0.95442927 0.96157324 0.9593589 ]\n",
            " [0.9613993  0.01682648 0.9684216  0.9664004  0.96520317]\n",
            " [0.9458598  0.02957994 0.9591316  0.9544656  0.9445942 ]\n",
            " [0.94082    0.01903603 0.9518296  0.94796616 0.94482493]\n",
            " [0.95326686 0.02349437 0.94185144 0.94933444 0.9404802 ]\n",
            " [0.96369016 0.02399851 0.9636428  0.9662103  0.9653954 ]\n",
            " [0.94353074 0.02622273 0.9587493  0.95644206 0.9498233 ]\n",
            " [0.93990356 0.03044008 0.93458766 0.93694365 0.9323289 ]\n",
            " [0.912299   0.03339573 0.92548877 0.9285057  0.9150266 ]\n",
            " [0.9276858  0.02653784 0.9240743  0.9331428  0.92790717]\n",
            " [0.9472343  0.02094698 0.9385254  0.94674987 0.94355613]\n",
            " [0.9358946  0.02201703 0.94223374 0.9369056  0.9359816 ]\n",
            " [0.9278767  0.01735237 0.9411633  0.9362215  0.9335977 ]\n",
            " [0.9301728  0.02276459 0.9145549  0.92413473 0.9170644 ]\n",
            " [0.94303113 0.01893831 0.9323321  0.9420748  0.9372888 ]\n",
            " [0.93801796 0.01899892 0.94613326 0.9435191  0.9406724 ]\n",
            " [0.9594868  0.01856025 0.9469743  0.9542756  0.95132285]\n",
            " [0.96308404 0.01495923 0.9621901  0.960319   0.9640497 ]\n",
            " [0.96220386 0.0150246  0.9608902  0.96104115 0.9637805 ]\n",
            " [0.95386124 0.02147365 0.9598962  0.95549184 0.9580131 ]\n",
            " [0.95527714 0.01550892 0.9592463  0.9577724  0.95920503]\n",
            " [0.94655186 0.02029413 0.96012557 0.9547697  0.9492082 ]]\n"
          ],
          "name": "stdout"
        }
      ]
    },
    {
      "cell_type": "markdown",
      "metadata": {
        "id": "B6JQPNTN1Hwk"
      },
      "source": [
        "We can calculate the accuracy by counting the number of positive profits.\n",
        "total profit = sum of buy profit + sum of sell profit\n",
        "dividing it with number of testing samples to get profit per trade"
      ]
    },
    {
      "cell_type": "code",
      "metadata": {
        "id": "G8ai1iFjOsUP"
      },
      "source": [
        "accuracy_score = (len(final_df[final_df['sell_profit'] > 0]) + len(final_df[final_df['buy_profit'] > 0])) / len(final_df)\n",
        "total_buy_profit  = final_df[\"buy_profit\"].sum()\n",
        "total_sell_profit = final_df[\"sell_profit\"].sum()\n",
        "total_profit = total_buy_profit + total_sell_profit\n",
        "profit_per_trade = total_profit / len(final_df)"
      ],
      "execution_count": 49,
      "outputs": []
    },
    {
      "cell_type": "code",
      "metadata": {
        "id": "5_oBkuTINdyR",
        "colab": {
          "base_uri": "https://localhost:8080/",
          "height": 313
        },
        "outputId": "979c537c-fc39-41a4-851a-c9df72a74661"
      },
      "source": [
        "print(f\"{LOSS} loss:\", loss)\n",
        "print(\"Mean Absolute Error:\", mean_absolute_error)\n",
        "plot_graph(final_df)"
      ],
      "execution_count": 50,
      "outputs": [
        {
          "output_type": "stream",
          "text": [
            "huber_loss loss: 0.00013594912888947874\n",
            "Mean Absolute Error: 2.930692600726924\n"
          ],
          "name": "stdout"
        },
        {
          "output_type": "display_data",
          "data": {
            "image/png": "[encoded data removed]",
            "text/plain": [
              "<Figure size 432x288 with 1 Axes>"
            ]
          },
          "metadata": {
            "tags": [],
            "needs_background": "light"
          }
        }
      ]
    },
    {
      "cell_type": "code",
      "metadata": {
        "id": "Zri7JFXrOunL",
        "colab": {
          "base_uri": "https://localhost:8080/"
        },
        "outputId": "8e067651-dcb5-491e-8bdf-bf820487909f"
      },
      "source": [
        "# printing values\n",
        "\n",
        "print(f\"Future price after {LOOKUP_STEP} days is {future_price:.2f}$\")\n",
        "print(\"Accuracy score:\", accuracy_score)\n",
        "print(\"Total buy profit:\", total_buy_profit)\n",
        "print(\"Total sell profit:\", total_sell_profit)\n",
        "print(\"Total profit:\", total_profit)\n",
        "print(\"Profit per trade:\", profit_per_trade)"
      ],
      "execution_count": 51,
      "outputs": [
        {
          "output_type": "stream",
          "text": [
            "Future price after 15 days is 260.87$\n",
            "Accuracy score: 0.5201361315938741\n",
            "Total buy profit: 659.1416983604431\n",
            "Total sell profit: 18.212998121976852\n",
            "Total profit: 677.35469648242\n",
            "Profit per trade: 0.3842057268760181\n"
          ],
          "name": "stdout"
        }
      ]
    }
  ]
}